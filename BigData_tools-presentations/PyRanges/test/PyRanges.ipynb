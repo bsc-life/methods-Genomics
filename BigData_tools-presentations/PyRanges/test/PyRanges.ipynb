{
 "cells": [
  {
   "cell_type": "markdown",
   "metadata": {
    "slideshow": {
     "slide_type": "slide"
    }
   },
   "source": [
    "<div style=\"color:rgb(254, 184, 60);font-size:40px\">Pyranges\n",
    "<span style=\"color:black;font-size:20px\"> v0.0.52</span></div>\n",
    "<hr>"
   ]
  },
  {
   "cell_type": "markdown",
   "metadata": {
    "slideshow": {
     "slide_type": "slide"
    }
   },
   "source": [
    "\n",
    "<div style = \"content: ''; display: table; clear: both\">\n",
    "    <div style = \"float:left; width: 50%\">\n",
    "            <div style=\"color:rgb(240, 184, 60);font-size:30px; font-weight: bold\">What is Pyranges?</div>\n",
    "             <p style = \"font-size:20px;\" > Efficient comparison of genomic <br>\n",
    "                                            intervals in Python</p>\n",
    "             <div style = \"font-size:20px; margin-right:100px\">\n",
    "                <p>Examples of operations:</p>\n",
    "                <ul>\n",
    "                    <li>Overlap</li>\n",
    "                    <li>Intersect</li>\n",
    "                    <li>Sort</li>\n",
    "                    <li>Substract</li>\n",
    "                    <li>Others...</li>\n",
    "                </ul>\n",
    "            </div>\n",
    "            <div style = \"color:rgb(240, 184, 60);font-size:30px; font-weight: bold\">Advantages</div>\n",
    "            <div style = \"float:left;font-size:20px;\">\n",
    "              <ul>\n",
    "                  <li> faster (also in single-core mode) </li>\n",
    "                  <li> supports multiple cores </li>\n",
    "                  <li> memory-efficient </li>\n",
    "                  <li> prepared to read multiple formats: BED,GTF, BAM </li>\n",
    "                  <li> no dependence on external Pythonnal tools </li>\n",
    "                  <li> uses Pandas DataFrames </li>\n",
    "                </ul>\n",
    "            </div>\n",
    "    </div>\n",
    "    <div style = \"float:left; width: 50%\">\n",
    "        <div style = \"float:left; padding-bottom:200px; border: 1px solid white;\">\n",
    "           <div style = \"padding-bottom:40px\">\n",
    "            <div style=\"color:rgb(240, 184, 60);font-size:30px; font-weight: bold; margin-left:35px\">Other tools</div>\n",
    "            <div style = \"font-size:20px;\">\n",
    "                <ul>\n",
    "                    <li><b>GenomicRanges</b> (R)</li>\n",
    "                    <li><b>Bedtools</b> -> <b>pybedtools </b> (wrapper for Python)</li> \n",
    "                    <li><b>Bedops</b></li>\n",
    "                </ul>\n",
    "            </div>\n",
    "            </div>\n",
    "            <div style=\"border:1px solid black;padding-bottom:10px\">\n",
    "                <img style=\"display:block\" src=\"statistics.png\" alt=\"intersection\" width=\"100%\" height=\"100%\" style=\"padding-left:15px\">\n",
    "                <p style=\"padding-left:15px; font-size:10px;\">Stovner EB, Sætrom P. (2019)</p>\n",
    "            </div>\n",
    "        </div>\n",
    "    </div>\n",
    " </div>"
   ]
  },
  {
   "cell_type": "code",
   "execution_count": 15,
   "metadata": {
    "slideshow": {
     "slide_type": "slide"
    }
   },
   "outputs": [],
   "source": [
    "import os\n",
    "import pandas as pd\n",
    "import pyranges as pr\n",
    "import pybedtools as pbt"
   ]
  },
  {
   "cell_type": "code",
   "execution_count": 2,
   "metadata": {
    "slideshow": {
     "slide_type": "-"
    }
   },
   "outputs": [
    {
     "data": {
      "text/plain": [
       "+--------------+-----------+-----------+--------------+\n",
       "| Chromosome   |     Start |       End | Strand       |\n",
       "| (category)   |   (int64) |   (int64) | (category)   |\n",
       "|--------------+-----------+-----------+--------------|\n",
       "| chr1         |         1 |         3 | +            |\n",
       "| chr1         |         5 |       149 | -            |\n",
       "+--------------+-----------+-----------+--------------+\n",
       "Stranded PyRanges object has 2 rows and 4 columns from 1 chromosomes.\n",
       "For printing, the PyRanges was sorted on Chromosome and Strand."
      ]
     },
     "execution_count": 2,
     "metadata": {},
     "output_type": "execute_result"
    }
   ],
   "source": [
    "# Create your ouwn Pyrange object\n",
    "pr.PyRanges(chromosomes=\"chr1\", starts=(1, 5), ends=[3, 149],\n",
    "            strands=(\"+\", \"-\"), int64=True)"
   ]
  },
  {
   "cell_type": "code",
   "execution_count": 16,
   "metadata": {
    "slideshow": {
     "slide_type": "slide"
    }
   },
   "outputs": [
    {
     "name": "stdout",
     "output_type": "stream",
     "text": [
      "+--------------+-----------+-----------+------------+-----------+--------------+\n",
      "| Chromosome   |     Start |       End | Name       |     Score | Strand       |\n",
      "| (category)   |   (int32) |   (int32) | (object)   |   (int64) | (category)   |\n",
      "|--------------+-----------+-----------+------------+-----------+--------------|\n",
      "| chr1         |         1 |       100 | feature1   |         0 | +            |\n",
      "| chr1         |       100 |       200 | feature2   |         0 | +            |\n",
      "| chr1         |       200 |       500 | feature3   |         0 | -            |\n",
      "| chr2         |       100 |       140 | feature1   |         0 | +            |\n",
      "| chr2         |       100 |       200 | feature2   |         0 | +            |\n",
      "| chr2         |       200 |       300 | feature3   |         0 | -            |\n",
      "+--------------+-----------+-----------+------------+-----------+--------------+\n",
      "Stranded PyRanges object has 6 rows and 6 columns from 2 chromosomes.\n",
      "For printing, the PyRanges was sorted on Chromosome and Strand.\n"
     ]
    }
   ],
   "source": [
    "# Create Pyrange object from DataFrame\n",
    "A_pr = pd.read_csv('A.bed', \n",
    "                  sep='\\t', \n",
    "                  header=None, \n",
    "                  names = [\"Chromosome\", \"Start\", \"End\", \\\n",
    "                           \"Name\",\"Score\",\"Strand\"])\n",
    "A_pr = pr.PyRanges(A_pr)\n",
    "print(A_pr)"
   ]
  },
  {
   "cell_type": "code",
   "execution_count": 17,
   "metadata": {
    "slideshow": {
     "slide_type": "slide"
    }
   },
   "outputs": [
    {
     "name": "stdout",
     "output_type": "stream",
     "text": [
      "+--------------+-----------+-----------+------------+-----------+--------------+\n",
      "| Chromosome   |     Start |       End | Name       |     Score | Strand       |\n",
      "| (category)   |   (int32) |   (int32) | (object)   |   (int64) | (category)   |\n",
      "|--------------+-----------+-----------+------------+-----------+--------------|\n",
      "| chr1         |       210 |       300 | feature3   |         0 | +            |\n",
      "| chr1         |         1 |        84 | feature1   |         0 | -            |\n",
      "| chr1         |       150 |       183 | feature2   |         0 | -            |\n",
      "| chr2         |        63 |       140 | feature1   |         0 | +            |\n",
      "| chr2         |       155 |       190 | feature2   |         0 | -            |\n",
      "| chr2         |       280 |       310 | feature3   |         0 | -            |\n",
      "+--------------+-----------+-----------+------------+-----------+--------------+\n",
      "Stranded PyRanges object has 6 rows and 6 columns from 2 chromosomes.\n",
      "For printing, the PyRanges was sorted on Chromosome and Strand.\n"
     ]
    }
   ],
   "source": [
    "# Create object file directly from a file \n",
    "B_pr = pr.read_bed(\"B.bed\")\n",
    "print(B_pr)"
   ]
  },
  {
   "cell_type": "code",
   "execution_count": 20,
   "metadata": {
    "slideshow": {
     "slide_type": "slide"
    }
   },
   "outputs": [],
   "source": [
    "A_pbt = pbt.BedTool('A.bed') \n",
    "B_pbt = pbt.BedTool('B.bed')"
   ]
  },
  {
   "cell_type": "code",
   "execution_count": 21,
   "metadata": {},
   "outputs": [
    {
     "name": "stdout",
     "output_type": "stream",
     "text": [
      "100 loops, best of 5: 39.8 ms per loop\n",
      "chr1\t1\t84\tfeature1\t0\t+\n",
      "chr1\t150\t183\tfeature2\t0\t+\n",
      "chr1\t210\t300\tfeature3\t0\t-\n",
      "chr2\t100\t140\tfeature1\t0\t+\n",
      "chr2\t100\t140\tfeature2\t0\t+\n",
      "chr2\t155\t190\tfeature2\t0\t+\n",
      "chr2\t280\t300\tfeature3\t0\t-\n",
      "\n"
     ]
    }
   ],
   "source": [
    "%timeit -n 100 A_pbt.intersect(B_pbt)\n",
    "df_pbt = A_pbt.intersect(B_pbt)\n",
    "print(df_pbt)"
   ]
  },
  {
   "cell_type": "code",
   "execution_count": 22,
   "metadata": {
    "slideshow": {
     "slide_type": "slide"
    }
   },
   "outputs": [
    {
     "name": "stdout",
     "output_type": "stream",
     "text": [
      "100 loops, best of 5: 62.3 ms per loop\n",
      "+--------------+-----------+-----------+------------+-----------+--------------+\n",
      "| Chromosome   |     Start |       End | Name       |     Score | Strand       |\n",
      "| (category)   |   (int32) |   (int32) | (object)   |   (int64) | (category)   |\n",
      "|--------------+-----------+-----------+------------+-----------+--------------|\n",
      "| chr1         |         1 |        84 | feature1   |         0 | +            |\n",
      "| chr1         |       150 |       183 | feature2   |         0 | +            |\n",
      "| chr1         |       210 |       300 | feature3   |         0 | -            |\n",
      "| chr2         |       100 |       140 | feature1   |         0 | +            |\n",
      "| chr2         |       100 |       140 | feature2   |         0 | +            |\n",
      "| chr2         |       155 |       190 | feature2   |         0 | +            |\n",
      "| chr2         |       280 |       300 | feature3   |         0 | -            |\n",
      "+--------------+-----------+-----------+------------+-----------+--------------+\n",
      "Stranded PyRanges object has 7 rows and 6 columns from 2 chromosomes.\n",
      "For printing, the PyRanges was sorted on Chromosome and Strand.\n"
     ]
    }
   ],
   "source": [
    "%timeit -n 100 A_pr.intersect(B_pr)\n",
    "df_pr = A_pr.intersect(B_pr)\n",
    "print(df_pr)"
   ]
  },
  {
   "cell_type": "code",
   "execution_count": 2,
   "metadata": {
    "slideshow": {
     "slide_type": "slide"
    }
   },
   "outputs": [
    {
     "name": "stdout",
     "output_type": "stream",
     "text": [
      "+--------------+------------+------------+-----------+-----------+------------+--------------+------------+-------+\n",
      "| Chromosome   | Source     | Feature    | Start     | End       | Score      | Strand       | Frame      | +17   |\n",
      "| (category)   | (object)   | (object)   | (int32)   | (int32)   | (object)   | (category)   | (object)   | ...   |\n",
      "|--------------+------------+------------+-----------+-----------+------------+--------------+------------+-------|\n",
      "| chr1         | HAVANA     | gene       | 11868     | 14409     | .          | +            | .          | ...   |\n",
      "| chr1         | HAVANA     | transcript | 11868     | 14409     | .          | +            | .          | ...   |\n",
      "| chr1         | HAVANA     | exon       | 11868     | 12227     | .          | +            | .          | ...   |\n",
      "| chr1         | HAVANA     | exon       | 12612     | 12721     | .          | +            | .          | ...   |\n",
      "| ...          | ...        | ...        | ...       | ...       | ...        | ...          | ...        | ...   |\n",
      "| chrY         | HAVANA     | exon       | 57213879  | 57213964  | .          | -            | .          | ...   |\n",
      "| chrY         | HAVANA     | exon       | 57213525  | 57213602  | .          | -            | .          | ...   |\n",
      "| chrY         | HAVANA     | exon       | 57213203  | 57213357  | .          | -            | .          | ...   |\n",
      "| chrY         | HAVANA     | exon       | 57212183  | 57213125  | .          | -            | .          | ...   |\n",
      "+--------------+------------+------------+-----------+-----------+------------+--------------+------------+-------+\n",
      "Stranded PyRanges object has 3,014,855 rows and 25 columns from 25 chromosomes.\n",
      "For printing, the PyRanges was sorted on Chromosome and Strand.\n",
      "17 hidden columns: gene_id, gene_type, gene_name, level, hgnc_id, havana_gene, transcript_id, transcript_type, transcript_name, ... (+ 8 more.)\n"
     ]
    }
   ],
   "source": [
    "gtf_pr = pr.read_gtf('gencode.v36.annotation.gtf')\n",
    "bed_pr = pr.read_bed('random.bed')\n",
    "print(gtf_pr)"
   ]
  },
  {
   "cell_type": "code",
   "execution_count": 12,
   "metadata": {
    "slideshow": {
     "slide_type": "slide"
    }
   },
   "outputs": [
    {
     "data": {
      "text/plain": [
       "+--------------+------------+------------+-----------+-----------+------------+--------------+------------+-------+\n",
       "| Chromosome   | Source     | Feature    |     Start |       End | Score      | Strand       | Frame      | +17   |\n",
       "| (category)   | (object)   | (object)   |   (int32) |   (int32) | (object)   | (category)   | (object)   | ...   |\n",
       "|--------------+------------+------------+-----------+-----------+------------+--------------+------------+-------|\n",
       "| chr1         | HAVANA     | gene       |     11868 |     14409 | .          | +            | .          | ...   |\n",
       "| chr1         | HAVANA     | transcript |     11868 |     14409 | .          | +            | .          | ...   |\n",
       "| chr1         | HAVANA     | exon       |     11868 |     12227 | .          | +            | .          | ...   |\n",
       "+--------------+------------+------------+-----------+-----------+------------+--------------+------------+-------+\n",
       "Stranded PyRanges object has 3 rows and 25 columns from 1 chromosomes.\n",
       "For printing, the PyRanges was sorted on Chromosome and Strand.\n",
       "17 hidden columns: gene_id, gene_type, gene_name, level, hgnc_id, havana_gene, transcript_id, transcript_type, transcript_name, ... (+ 8 more.)"
      ]
     },
     "execution_count": 12,
     "metadata": {},
     "output_type": "execute_result"
    }
   ],
   "source": [
    "gtf_pr[\"chr1\", 0:12000]"
   ]
  },
  {
   "cell_type": "code",
   "execution_count": 9,
   "metadata": {
    "slideshow": {
     "slide_type": "slide"
    }
   },
   "outputs": [],
   "source": [
    "gtf_pbt = pbt.BedTool('gencode.v36.annotation.gtf')\n",
    "bed_pbt = pbt.BedTool('random.bed')"
   ]
  },
  {
   "cell_type": "code",
   "execution_count": 11,
   "metadata": {},
   "outputs": [
    {
     "name": "stdout",
     "output_type": "stream",
     "text": [
      "chr1\tHAVANA\tgene\t11869\t14409\t.\t+\t.\tgene_id \"ENSG00000223972.5\"; gene_type \"transcribed_unprocessed_pseudogene\"; gene_name \"DDX11L1\"; level 2; hgnc_id \"HGNC:37102\"; havana_gene \"OTTHUMG00000000961.2\";\n",
      "chr1\tHAVANA\ttranscript\t11869\t14409\t.\t+\t.\tgene_id \"ENSG00000223972.5\"; transcript_id \"ENST00000456328.2\"; gene_type \"transcribed_unprocessed_pseudogene\"; gene_name \"DDX11L1\"; transcript_type \"processed_transcript\"; transcript_name \"DDX11L1-202\"; level 2; transcript_support_level \"1\"; hgnc_id \"HGNC:37102\"; tag \"basic\"; havana_gene \"OTTHUMG00000000961.2\"; havana_transcript \"OTTHUMT00000362751.1\";\n",
      "chr1\tHAVANA\texon\t11869\t12227\t.\t+\t.\tgene_id \"ENSG00000223972.5\"; transcript_id \"ENST00000456328.2\"; gene_type \"transcribed_unprocessed_pseudogene\"; gene_name \"DDX11L1\"; transcript_type \"processed_transcript\"; transcript_name \"DDX11L1-202\"; exon_number 1; exon_id \"ENSE00002234944.1\"; level 2; transcript_support_level \"1\"; hgnc_id \"HGNC:37102\"; tag \"basic\"; havana_gene \"OTTHUMG00000000961.2\"; havana_transcript \"OTTHUMT00000362751.1\";\n",
      "\n"
     ]
    }
   ],
   "source": [
    "filtered = gtf_pbt.filter(lambda gtf_pbt: gtf_pbt.chrom == 'chr1' and \n",
    "                                          gtf_pbt.start <= 12000) \n",
    "print(filtered)"
   ]
  },
  {
   "cell_type": "code",
   "execution_count": 20,
   "metadata": {
    "slideshow": {
     "slide_type": "slide"
    }
   },
   "outputs": [
    {
     "name": "stdout",
     "output_type": "stream",
     "text": [
      "20 loops, best of 5: 5.91 s per loop\n"
     ]
    }
   ],
   "source": [
    "%timeit -n 20 gtf_pr.intersect(bed_pr)"
   ]
  },
  {
   "cell_type": "code",
   "execution_count": 13,
   "metadata": {},
   "outputs": [
    {
     "name": "stdout",
     "output_type": "stream",
     "text": [
      "20 loops, best of 5: 10.8 s per loop\n"
     ]
    }
   ],
   "source": [
    "%timeit -n 20 gtf_pbt.intersect(bed_pbt)"
   ]
  }
 ],
 "metadata": {
  "kernelspec": {
   "display_name": "Python 3",
   "language": "python",
   "name": "python3"
  },
  "language_info": {
   "codemirror_mode": {
    "name": "ipython",
    "version": 3
   },
   "file_extension": ".py",
   "mimetype": "text/x-python",
   "name": "python",
   "nbconvert_exporter": "python",
   "pygments_lexer": "ipython3",
   "version": "3.7.9"
  }
 },
 "nbformat": 4,
 "nbformat_minor": 4
}
